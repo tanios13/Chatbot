{
 "cells": [
  {
   "attachments": {},
   "cell_type": "markdown",
   "metadata": {},
   "source": [
    "# Load the unstructured data"
   ]
  },
  {
   "cell_type": "code",
   "execution_count": null,
   "metadata": {},
   "outputs": [],
   "source": [
    "from bs4 import BeautifulSoup\n",
    "import pickle\n",
    "import requests\n",
    "from nltk.corpus import stopwords\n",
    "from nltk.tokenize import word_tokenize\n",
    "\n",
    "from helpers.lookups import Path"
   ]
  },
  {
   "cell_type": "code",
   "execution_count": null,
   "metadata": {},
   "outputs": [],
   "source": [
    "with open('../data/scraped_links.pkl', 'rb') as file:\n",
    "    scraped_links = pickle.load(file)\n"
   ]
  },
  {
   "cell_type": "code",
   "execution_count": null,
   "metadata": {},
   "outputs": [],
   "source": [
    "def extract_text(link):\n",
    "    response = requests.get(link)\n",
    "    soup = BeautifulSoup(response.content, \"html.parser\")\n",
    "\n",
    "    # Fetch the description of the title\n",
    "    body = soup.find_all(\"p\")\n",
    "    paragraphs = []\n",
    "    for paragraph in body:\n",
    "        paragraphs.append(paragraph.text)\n",
    "\n",
    "    return paragraphs"
   ]
  },
  {
   "cell_type": "code",
   "execution_count": null,
   "metadata": {},
   "outputs": [],
   "source": [
    "# Clean the list of strings\n",
    "def clean_text(data):\n",
    "    # Get the list of French stopwords\n",
    "    stop_words = set(stopwords.words('english'))\n",
    "    \n",
    "    cleaned_data = []\n",
    "    for sentence in data:\n",
    "        # Tokenize the sentence\n",
    "        tokens = word_tokenize(sentence)\n",
    "        # Remove stopwords and convert to lowercase\n",
    "        cleaned_tokens = [token for token in tokens if token.lower() not in stop_words]\n",
    "        # Join the cleaned tokens back into a sentence\n",
    "        cleaned_sentence = \" \".join(cleaned_tokens)\n",
    "        # Remove empty sentences\n",
    "        if cleaned_sentence:\n",
    "            cleaned_data.append(cleaned_sentence)\n",
    "    \n",
    "    return cleaned_data\n"
   ]
  },
  {
   "cell_type": "code",
   "execution_count": null,
   "metadata": {},
   "outputs": [],
   "source": [
    "    \n",
    "for link in scraped_links:\n",
    "    text = extract_text(link)\n",
    "    cleaned_text = clean_text(text)\n",
    "\n",
    "    # Get the filename\n",
    "    filename = link.split(\"/\")[3]\n",
    "    if filename not in [\"admission\", \"international\", \"aide\", \"servicesocial\", \"sio\", \"sip\"]:\n",
    "        filename = \"institutions\"\n",
    "        \n",
    "    with open(\"../data/scraped_text/\" + filename + \".txt\", 'a') as file:\n",
    "        file.write(link + \"\\n\")\n",
    "\n",
    "        for t in cleaned_text:\n",
    "            file.write(t + \"\\n\")    \n",
    "\n",
    "        file.write(\"------------------------------------------------------\\n\")\n"
   ]
  },
  {
   "attachments": {},
   "cell_type": "markdown",
   "metadata": {},
   "source": [
    "## Implement API"
   ]
  },
  {
   "cell_type": "code",
   "execution_count": null,
   "metadata": {},
   "outputs": [],
   "source": [
    "from web_scraping import web_scrape\n",
    "\n",
    "web_scrape(scraped_links)"
   ]
  },
  {
   "cell_type": "code",
   "execution_count": null,
   "metadata": {},
   "outputs": [],
   "source": []
  }
 ],
 "metadata": {
  "kernelspec": {
   "display_name": "chatbot",
   "language": "python",
   "name": "python3"
  },
  "language_info": {
   "codemirror_mode": {
    "name": "ipython",
    "version": 3
   },
   "file_extension": ".py",
   "mimetype": "text/x-python",
   "name": "python",
   "nbconvert_exporter": "python",
   "pygments_lexer": "ipython3",
   "version": "3.8.17"
  },
  "orig_nbformat": 4
 },
 "nbformat": 4,
 "nbformat_minor": 2
}
