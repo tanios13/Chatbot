{
 "cells": [
  {
   "cell_type": "markdown",
   "metadata": {},
   "source": [
    "# Web scraping of the USJ website"
   ]
  },
  {
   "cell_type": "markdown",
   "metadata": {},
   "source": [
    "This Webscraping only scrape informations about Insitutions, Admission, Financial Aide and Student Life"
   ]
  },
  {
   "cell_type": "code",
   "execution_count": null,
   "metadata": {},
   "outputs": [],
   "source": [
    "import requests\n",
    "from helpers.lookups import Url\n",
    "from bs4 import BeautifulSoup\n",
    "from urllib.parse import urlparse"
   ]
  },
  {
   "cell_type": "markdown",
   "metadata": {},
   "source": [
    "## Gather all the links for the main pages"
   ]
  },
  {
   "cell_type": "code",
   "execution_count": null,
   "metadata": {},
   "outputs": [],
   "source": [
    "with open(\"../data/links.txt\", 'r') as file:\n",
    "    links = [line.strip() for line in file]"
   ]
  },
  {
   "cell_type": "code",
   "execution_count": null,
   "metadata": {},
   "outputs": [],
   "source": [
    "def get_institutions_links(url):\n",
    "    \"\"\" Get the institutions links\"\"\"\n",
    "\n",
    "    response = requests.get(url)\n",
    "    soup = BeautifulSoup(response.content, \"html.parser\")\n",
    "\n",
    "    li_elements = soup.find_all('li', class_='rs-mega-menu mega-rs')\n",
    "\n",
    "    # Search for the Insitution in the menu bar\n",
    "    target_li_element = None\n",
    "    for li_element in li_elements:\n",
    "        a_element = li_element.find('a', string='Institutions')\n",
    "        if a_element:\n",
    "            target_li_element = li_element\n",
    "            break\n",
    "\n",
    "    href_links = set()\n",
    "    if target_li_element:\n",
    "        anchor_tags = target_li_element.find_all('a')\n",
    "        for tag in anchor_tags:\n",
    "            href = tag.get(\"href\")\n",
    "            if href and \"https\" in href:\n",
    "                href = urlparse(href).netloc.split(\".\")[0]\n",
    "                href_links.add(Url.USJ.value + \"/\" + href)\n",
    "\n",
    "    return href_links"
   ]
  },
  {
   "cell_type": "code",
   "execution_count": null,
   "metadata": {},
   "outputs": [],
   "source": [
    "links = set(links).union(get_institutions_links(Url.USJ.value))"
   ]
  },
  {
   "cell_type": "code",
   "execution_count": null,
   "metadata": {},
   "outputs": [],
   "source": [
    "def gather_links(main_link, soup):\n",
    "    \"\"\"Gather links from the body only (ignore header and footer)\"\"\"\n",
    "\n",
    "    links = set()\n",
    "\n",
    "    # Find the body element and exclude the footer\n",
    "    body_with_footer = soup.find(\"div\", id=\"rs-about\")\n",
    "    if body_with_footer:\n",
    "        footer_element = body_with_footer.find(\"footer\", id=\"rs-footer\")\n",
    "        if footer_element:\n",
    "            footer_element.decompose()  # Remove the footer element from the DOM\n",
    "\n",
    "    body = body_with_footer\n",
    "    # Gather links from the modified body element\n",
    "    for link in body.find_all(\"a\"):\n",
    "        href = link.get(\"href\")\n",
    "        if href:\n",
    "            if \"http\" in href or \"javascript\" in href:\n",
    "                None\n",
    "            elif href.startswith(\"https\"):\n",
    "                links.add(href)\n",
    "            elif href.startswith(\"/\"):\n",
    "                new_main_link = main_link.rsplit(\"/\", 1)[0]\n",
    "                links.add(new_main_link + href)\n",
    "            elif href.startswith(\"../\"):\n",
    "                new_main_link = main_link.rsplit(\"/\", 1)[0]\n",
    "                links.add(new_main_link + href[2:])\n",
    "            elif href.startswith(\"./\"):\n",
    "                links.add(main_link + href[1:])\n",
    "            elif \".php\" in href:\n",
    "                links.add(main_link + \"/\" + href)\n",
    "            else:\n",
    "                None                \n",
    "\n",
    "    return links"
   ]
  },
  {
   "cell_type": "code",
   "execution_count": null,
   "metadata": {},
   "outputs": [],
   "source": [
    "# link depth search\n",
    "depth = 1"
   ]
  },
  {
   "cell_type": "code",
   "execution_count": null,
   "metadata": {},
   "outputs": [],
   "source": [
    "# Gather all the links of the website\n",
    "total_links = set()\n",
    "for i in range(0, depth):\n",
    "    current_links = links.copy()\n",
    "    links = set()\n",
    "    for link in current_links:\n",
    "        if link[len(link) - 1] == \"/\":\n",
    "            link = link[:-1]\n",
    "        # if it is a new link we haven't scraped yet\n",
    "        if link not in total_links:\n",
    "            # add link to all the links\n",
    "            total_links.add(link)\n",
    "            try:\n",
    "                response = requests.get(link)\n",
    "                soup = BeautifulSoup(response.content, \"html.parser\")\n",
    "                new_links = gather_links(link, soup)\n",
    "                for n_link in new_links:\n",
    "                    if n_link not in total_links and n_link not in current_links:\n",
    "                        links.add(n_link)\n",
    "            except Exception as e:\n",
    "                print(\"Error Description:\", str(e))\n",
    "\n",
    "total_links = total_links.union(links)\n"
   ]
  },
  {
   "cell_type": "code",
   "execution_count": null,
   "metadata": {},
   "outputs": [],
   "source": [
    "len(total_links)"
   ]
  },
  {
   "cell_type": "code",
   "execution_count": null,
   "metadata": {},
   "outputs": [],
   "source": [
    "total_links"
   ]
  },
  {
   "cell_type": "markdown",
   "metadata": {},
   "source": [
    "## Implement API"
   ]
  },
  {
   "cell_type": "code",
   "execution_count": 1,
   "metadata": {},
   "outputs": [
    {
     "name": "stdout",
     "output_type": "stream",
     "text": [
      "Error Description: 'NoneType' object has no attribute 'find_all'\n",
      "Error Description: 'NoneType' object has no attribute 'find_all'\n",
      "Error Description: 'NoneType' object has no attribute 'find_all'\n",
      "Error Description: 'NoneType' object has no attribute 'find_all'\n"
     ]
    }
   ],
   "source": [
    "from links_scraping import LinksScraper\n",
    "from helpers.lookups import Path\n",
    "\n",
    "links_scraper = LinksScraper(Path.Links)\n",
    "total_links = links_scraper.gather_links(1)"
   ]
  },
  {
   "cell_type": "code",
   "execution_count": 2,
   "metadata": {},
   "outputs": [
    {
     "data": {
      "text/plain": [
       "615"
      ]
     },
     "execution_count": 2,
     "metadata": {},
     "output_type": "execute_result"
    }
   ],
   "source": [
    "len(total_links)"
   ]
  },
  {
   "cell_type": "code",
   "execution_count": null,
   "metadata": {},
   "outputs": [],
   "source": []
  }
 ],
 "metadata": {
  "kernelspec": {
   "display_name": "chatbot",
   "language": "python",
   "name": "python3"
  },
  "language_info": {
   "codemirror_mode": {
    "name": "ipython",
    "version": 3
   },
   "file_extension": ".py",
   "mimetype": "text/x-python",
   "name": "python",
   "nbconvert_exporter": "python",
   "pygments_lexer": "ipython3",
   "version": "3.8.17"
  },
  "orig_nbformat": 4
 },
 "nbformat": 4,
 "nbformat_minor": 2
}
