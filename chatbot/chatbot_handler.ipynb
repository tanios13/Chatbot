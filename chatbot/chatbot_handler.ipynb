{
 "cells": [
  {
   "cell_type": "markdown",
   "metadata": {},
   "source": [
    "# Prepare data for model"
   ]
  },
  {
   "cell_type": "code",
   "execution_count": 1,
   "metadata": {},
   "outputs": [
    {
     "name": "stderr",
     "output_type": "stream",
     "text": [
      "c:\\Users\\ronan\\miniconda3\\envs\\chatbot\\lib\\site-packages\\pinecone\\index.py:4: TqdmExperimentalWarning: Using `tqdm.autonotebook.tqdm` in notebook mode. Use `tqdm.tqdm` instead to force console mode (e.g. in jupyter console)\n",
      "  from tqdm.autonotebook import tqdm\n"
     ]
    }
   ],
   "source": [
    "from chatbot import Chatbot\n",
    "\n",
    "from helpers.constants import Constants\n",
    "from helpers.lookups import Path"
   ]
  },
  {
   "cell_type": "markdown",
   "metadata": {},
   "source": [
    "## QA"
   ]
  },
  {
   "cell_type": "code",
   "execution_count": 2,
   "metadata": {},
   "outputs": [],
   "source": [
    "chatbot = Chatbot(\"gpt-3.5-turbo\", Constants.PineconeIndex.value, True)"
   ]
  },
  {
   "cell_type": "code",
   "execution_count": 3,
   "metadata": {},
   "outputs": [
    {
     "data": {
      "text/plain": [
       "{'query': 'how to get in license at usj?',\n",
       " 'result': \"To get into the license program at USJ (Université Saint-Joseph), you need to meet the following requirements:\\n\\n1. Hold a Lebanese Baccalaureate, French Baccalaureate, or an equivalent diploma recognized by the Lebanese Ministry of Education and Higher Education.\\n2. Obtain a ranking in a category on the French language aptitude test conducted by USJ.\\n3. Some programs at USJ may have specific admission requirements, so it's important to check the details for the program you are interested in.\\n\\nFor more information on the admission process, including documents required, deadlines, and fees, you can visit the USJ admission website at www.usj.edu.lb/admission.\\n\\nTo apply for admission to the license program, you need to submit your application to the USJ Admission Office. The complete application process and contact details can be found on the USJ admission website.\\n\\nPlease note that this information is based on the provided context and may be subject to change. It is always recommended to visit the official USJ website or contact the Admission Office directly for the most accurate and up-to-date information.\"}"
      ]
     },
     "execution_count": 3,
     "metadata": {},
     "output_type": "execute_result"
    }
   ],
   "source": [
    "chatbot.answer_query(\"how to get in license at usj?\")"
   ]
  },
  {
   "cell_type": "markdown",
   "metadata": {},
   "source": [
    "## Add document to vectorstore"
   ]
  },
  {
   "cell_type": "code",
   "execution_count": 4,
   "metadata": {},
   "outputs": [],
   "source": [
    "chatbot = Chatbot(Constants.PineconeIndex.value, True)\n",
    "chatbot.add_dir(Path.ScrapedText, Constants.TextSeparator.value)"
   ]
  },
  {
   "cell_type": "code",
   "execution_count": 8,
   "metadata": {},
   "outputs": [],
   "source": [
    "docsearch = chatbot.index_name"
   ]
  },
  {
   "cell_type": "markdown",
   "metadata": {},
   "source": [
    "## Load and Split"
   ]
  },
  {
   "cell_type": "code",
   "execution_count": 5,
   "metadata": {},
   "outputs": [],
   "source": [
    "chatbot = Chatbot(Constants.PineconeIndex.value, False)\n",
    "docs = chatbot._load_dir(Path.ScrapedText, Constants.TextSeparator.value)"
   ]
  },
  {
   "cell_type": "code",
   "execution_count": 6,
   "metadata": {},
   "outputs": [
    {
     "data": {
      "text/plain": [
       "488"
      ]
     },
     "execution_count": 6,
     "metadata": {},
     "output_type": "execute_result"
    }
   ],
   "source": [
    "len(docs)"
   ]
  },
  {
   "cell_type": "code",
   "execution_count": null,
   "metadata": {},
   "outputs": [],
   "source": []
  }
 ],
 "metadata": {
  "kernelspec": {
   "display_name": "chatbot",
   "language": "python",
   "name": "python3"
  },
  "language_info": {
   "codemirror_mode": {
    "name": "ipython",
    "version": 3
   },
   "file_extension": ".py",
   "mimetype": "text/x-python",
   "name": "python",
   "nbconvert_exporter": "python",
   "pygments_lexer": "ipython3",
   "version": "3.8.17"
  },
  "orig_nbformat": 4
 },
 "nbformat": 4,
 "nbformat_minor": 2
}
