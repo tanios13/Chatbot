{
 "cells": [
  {
   "cell_type": "markdown",
   "metadata": {},
   "source": [
    "# Prepare data for model"
   ]
  },
  {
   "cell_type": "code",
   "execution_count": 1,
   "metadata": {},
   "outputs": [
    {
     "name": "stderr",
     "output_type": "stream",
     "text": [
      "c:\\Users\\ronan\\miniconda3\\envs\\chatbot\\lib\\site-packages\\pinecone\\index.py:4: TqdmExperimentalWarning: Using `tqdm.autonotebook.tqdm` in notebook mode. Use `tqdm.tqdm` instead to force console mode (e.g. in jupyter console)\n",
      "  from tqdm.autonotebook import tqdm\n"
     ]
    }
   ],
   "source": [
    "from chatbot import Chatbot\n",
    "\n",
    "from helpers.constants import Constants\n",
    "from helpers.lookups import Path"
   ]
  },
  {
   "cell_type": "markdown",
   "metadata": {},
   "source": [
    "## QA"
   ]
  },
  {
   "cell_type": "code",
   "execution_count": 2,
   "metadata": {},
   "outputs": [],
   "source": [
    "chatbot = Chatbot(\"gpt-3.5-turbo\", Constants.PineconeIndex.value, True)"
   ]
  },
  {
   "cell_type": "code",
   "execution_count": 4,
   "metadata": {},
   "outputs": [
    {
     "data": {
      "text/plain": [
       "{'question': 'how to get in license at usj?',\n",
       " 'chat_history': [HumanMessage(content='how to get in license at usj?', additional_kwargs={}, example=False),\n",
       "  AIMessage(content='To get into the license program at USJ (Université Saint-Joseph), you need to meet the following requirements:\\n\\n1. Be a holder of the Lebanese Baccalaureate, French Baccalaureate, or an equivalent diploma recognized by the Lebanese Ministry of Education and Higher Education.\\n\\n2. Obtain a ranking in a category in the French language aptitude test conducted by USJ.\\n\\nPlease note that some programs at USJ may have specific admission requirements. For more information on the different conditions, equivalences, documents, deadlines, and fees, you can visit the following link: www.usj.edu.lb/admission\\n\\nTo apply, you need to submit your complete application dossier. It is preferable to submit the dossier in person, but you can also send it by mail to the following address:\\n\\nUNIVERSITE SAINT-JOSEPH\\nService des relations internationales, Rectorat\\nRue de Damas, B.P. 17-5208\\nMar Mikhaël, Beyrouth 1104 2020\\n\\nIf you have any further questions, you can contact the Orientation Service at USJ through the following email address: service.orientation@usj.edu.lb or call +961 (1) 421 128.', additional_kwargs={}, example=False)],\n",
       " 'answer': 'To get into the license program at USJ (Université Saint-Joseph), you need to meet the following requirements:\\n\\n1. Be a holder of the Lebanese Baccalaureate, French Baccalaureate, or an equivalent diploma recognized by the Lebanese Ministry of Education and Higher Education.\\n\\n2. Obtain a ranking in a category in the French language aptitude test conducted by USJ.\\n\\nPlease note that some programs at USJ may have specific admission requirements. For more information on the different conditions, equivalences, documents, deadlines, and fees, you can visit the following link: www.usj.edu.lb/admission\\n\\nTo apply, you need to submit your complete application dossier. It is preferable to submit the dossier in person, but you can also send it by mail to the following address:\\n\\nUNIVERSITE SAINT-JOSEPH\\nService des relations internationales, Rectorat\\nRue de Damas, B.P. 17-5208\\nMar Mikhaël, Beyrouth 1104 2020\\n\\nIf you have any further questions, you can contact the Orientation Service at USJ through the following email address: service.orientation@usj.edu.lb or call +961 (1) 421 128.'}"
      ]
     },
     "execution_count": 4,
     "metadata": {},
     "output_type": "execute_result"
    }
   ],
   "source": [
    "chatbot.answer_question(\"how to get in license at usj?\")"
   ]
  },
  {
   "cell_type": "code",
   "execution_count": 5,
   "metadata": {},
   "outputs": [
    {
     "data": {
      "text/plain": [
       "{'question': 'is it hard ?',\n",
       " 'chat_history': [HumanMessage(content='how to get in license at usj?', additional_kwargs={}, example=False),\n",
       "  AIMessage(content='To get into the license program at USJ (Université Saint-Joseph), you need to meet the following requirements:\\n\\n1. Be a holder of the Lebanese Baccalaureate, French Baccalaureate, or an equivalent diploma recognized by the Lebanese Ministry of Education and Higher Education.\\n\\n2. Obtain a ranking in a category in the French language aptitude test conducted by USJ.\\n\\nPlease note that some programs at USJ may have specific admission requirements. For more information on the different conditions, equivalences, documents, deadlines, and fees, you can visit the following link: www.usj.edu.lb/admission\\n\\nTo apply, you need to submit your complete application dossier. It is preferable to submit the dossier in person, but you can also send it by mail to the following address:\\n\\nUNIVERSITE SAINT-JOSEPH\\nService des relations internationales, Rectorat\\nRue de Damas, B.P. 17-5208\\nMar Mikhaël, Beyrouth 1104 2020\\n\\nIf you have any further questions, you can contact the Orientation Service at USJ through the following email address: service.orientation@usj.edu.lb or call +961 (1) 421 128.', additional_kwargs={}, example=False),\n",
       "  HumanMessage(content='is it hard ?', additional_kwargs={}, example=False),\n",
       "  AIMessage(content='Based on the provided information, the admission process for the license program at USJ requires candidates to have a ranking in the category on the French language aptitude test. It is not explicitly mentioned whether the process is difficult or not.', additional_kwargs={}, example=False)],\n",
       " 'answer': 'Based on the provided information, the admission process for the license program at USJ requires candidates to have a ranking in the category on the French language aptitude test. It is not explicitly mentioned whether the process is difficult or not.'}"
      ]
     },
     "execution_count": 5,
     "metadata": {},
     "output_type": "execute_result"
    }
   ],
   "source": [
    "chatbot.answer_question(\"is it hard ?\")"
   ]
  },
  {
   "cell_type": "code",
   "execution_count": 6,
   "metadata": {},
   "outputs": [],
   "source": [
    "chatbot.clear_history()"
   ]
  },
  {
   "cell_type": "code",
   "execution_count": 7,
   "metadata": {},
   "outputs": [
    {
     "data": {
      "text/plain": [
       "{'question': 'so it is hard ?',\n",
       " 'chat_history': [HumanMessage(content='so it is hard ?', additional_kwargs={}, example=False),\n",
       "  AIMessage(content='Yes, the text suggests that teaching can be a challenging profession. It mentions that teaching is often referred to as an \"impossible job\" and that success can be insufficient. It highlights the importance of the teacher\\'s role as a mediator and the need for a positive and empathetic relationship with students. It also emphasizes the complexity and uniqueness of each student, which can make teaching unpredictable and require the teacher to be open to new approaches and continuous learning. Overall, the text acknowledges the difficulties and responsibilities of teaching but also emphasizes the potential for growth and success when approached with humility and a focus on the individual needs of students.', additional_kwargs={}, example=False)],\n",
       " 'answer': 'Yes, the text suggests that teaching can be a challenging profession. It mentions that teaching is often referred to as an \"impossible job\" and that success can be insufficient. It highlights the importance of the teacher\\'s role as a mediator and the need for a positive and empathetic relationship with students. It also emphasizes the complexity and uniqueness of each student, which can make teaching unpredictable and require the teacher to be open to new approaches and continuous learning. Overall, the text acknowledges the difficulties and responsibilities of teaching but also emphasizes the potential for growth and success when approached with humility and a focus on the individual needs of students.'}"
      ]
     },
     "execution_count": 7,
     "metadata": {},
     "output_type": "execute_result"
    }
   ],
   "source": [
    "chatbot.answer_question(\"so it is hard ?\")"
   ]
  },
  {
   "cell_type": "markdown",
   "metadata": {},
   "source": [
    "## Add document to vectorstore"
   ]
  },
  {
   "cell_type": "code",
   "execution_count": 4,
   "metadata": {},
   "outputs": [],
   "source": [
    "chatbot = Chatbot(Constants.PineconeIndex.value, True)\n",
    "chatbot.add_dir(Path.ScrapedText, Constants.TextSeparator.value)"
   ]
  },
  {
   "cell_type": "code",
   "execution_count": 8,
   "metadata": {},
   "outputs": [],
   "source": [
    "docsearch = chatbot.index_name"
   ]
  },
  {
   "cell_type": "markdown",
   "metadata": {},
   "source": [
    "## Load and Split"
   ]
  },
  {
   "cell_type": "code",
   "execution_count": 5,
   "metadata": {},
   "outputs": [],
   "source": [
    "chatbot = Chatbot(Constants.PineconeIndex.value, False)\n",
    "docs = chatbot._load_dir(Path.ScrapedText, Constants.TextSeparator.value)"
   ]
  },
  {
   "cell_type": "code",
   "execution_count": 6,
   "metadata": {},
   "outputs": [
    {
     "data": {
      "text/plain": [
       "488"
      ]
     },
     "execution_count": 6,
     "metadata": {},
     "output_type": "execute_result"
    }
   ],
   "source": [
    "len(docs)"
   ]
  },
  {
   "cell_type": "code",
   "execution_count": null,
   "metadata": {},
   "outputs": [],
   "source": []
  }
 ],
 "metadata": {
  "kernelspec": {
   "display_name": "chatbot",
   "language": "python",
   "name": "python3"
  },
  "language_info": {
   "codemirror_mode": {
    "name": "ipython",
    "version": 3
   },
   "file_extension": ".py",
   "mimetype": "text/x-python",
   "name": "python",
   "nbconvert_exporter": "python",
   "pygments_lexer": "ipython3",
   "version": "3.8.17"
  },
  "orig_nbformat": 4
 },
 "nbformat": 4,
 "nbformat_minor": 2
}
